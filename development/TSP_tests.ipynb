{
 "cells": [
  {
   "cell_type": "code",
   "execution_count": 1,
   "metadata": {},
   "outputs": [],
   "source": [
    "import pandas as pd\n",
    "import numpy as np\n",
    "import googlemaps\n",
    "import json\n",
    "from itertools import combinations\n",
    "import pickle"
   ]
  },
  {
   "cell_type": "markdown",
   "metadata": {},
   "source": [
    "# Google Maps API\n",
    "Tests on Google Maps API"
   ]
  },
  {
   "cell_type": "code",
   "execution_count": 18,
   "metadata": {},
   "outputs": [],
   "source": [
    "# Get API key\n",
    "f = open(\"../config.json\")\n",
    "API = json.load(f)\n",
    "API_key = API[\"API_key\"]\n",
    "\n",
    "maps = googlemaps.Client(key = API_key)"
   ]
  },
  {
   "cell_type": "code",
   "execution_count": 144,
   "metadata": {},
   "outputs": [],
   "source": [
    "# Test distance\n",
    "start_point = \"Villafranca di Verona\"\n",
    "end_point = \"Trento\"\n",
    "\n",
    "distance = maps.directions(start_point, end_point)"
   ]
  },
  {
   "cell_type": "code",
   "execution_count": 145,
   "metadata": {},
   "outputs": [
    {
     "data": {
      "text/plain": [
       "[{'bounds': {'northeast': {'lat': 46.0775632, 'lng': 11.1265087},\n",
       "   'southwest': {'lat': 45.355234, 'lng': 10.7798422}},\n",
       "  'copyrights': 'Map data ©2023',\n",
       "  'legs': [{'distance': {'text': '106 km', 'value': 105825},\n",
       "    'duration': {'text': '1 hour 14 mins', 'value': 4418},\n",
       "    'end_address': 'Trento, Autonomous Province of Trento, Italy',\n",
       "    'end_location': {'lat': 46.0747235, 'lng': 11.1219304},\n",
       "    'start_address': '37069 Villafranca di Verona, VR, Italy',\n",
       "    'start_location': {'lat': 45.355234, 'lng': 10.8474199},\n",
       "    'steps': [{'distance': {'text': '0.2 km', 'value': 244},\n",
       "      'duration': {'text': '1 min', 'value': 37},\n",
       "      'end_location': {'lat': 45.3563585, 'lng': 10.8447541},\n",
       "      'html_instructions': 'Head <b>northwest</b> on <b>Via Gaetano Bellotti</b>',\n",
       "      'polyline': {'points': 'emysGkseaAA@ANGPWz@IZ_BjFo@rBIZY\\\\'},\n",
       "      'start_location': {'lat': 45.355234, 'lng': 10.8474199},\n",
       "      'travel_mode': 'DRIVING'},\n",
       "     {'distance': {'text': '0.2 km', 'value': 167},\n",
       "      'duration': {'text': '1 min', 'value': 23},\n",
       "      'end_location': {'lat': 45.3571718, 'lng': 10.8431878},\n",
       "      'html_instructions': 'At the roundabout, continue straight onto <b>Via Pozza</b>',\n",
       "      'maneuver': 'roundabout-right',\n",
       "      'polyline': {'points': 'gtysGubeaAAAA?A?A?A@A?A?A@A@A??@A??@A@A??@AB?@A@?@?@A@?@?B?@?@?@?@?@?@@@?B?@?@@@?@@@?@@?CZAL_ArCMNIJIHMHSJ'},\n",
       "      'start_location': {'lat': 45.3563585, 'lng': 10.8447541},\n",
       "      'travel_mode': 'DRIVING'},\n",
       "     {'distance': {'text': '0.2 km', 'value': 161},\n",
       "      'duration': {'text': '1 min', 'value': 23},\n",
       "      'end_location': {'lat': 45.35848240000001, 'lng': 10.8438944},\n",
       "      'html_instructions': 'At the roundabout, take the <b>1st</b> exit onto <b>Via Milano</b>',\n",
       "      'maneuver': 'roundabout-right',\n",
       "      'polyline': {'points': 'iyysG}xdaAAAC?A?AAA?A?A?A?A@A?A?A@Q?M@K?MCICIEIISQEAC?uBaB'},\n",
       "      'start_location': {'lat': 45.3571718, 'lng': 10.8431878},\n",
       "      'travel_mode': 'DRIVING'},\n",
       "     {'distance': {'text': '0.3 km', 'value': 313},\n",
       "      'duration': {'text': '1 min', 'value': 29},\n",
       "      'end_location': {'lat': 45.3611809, 'lng': 10.8449067},\n",
       "      'html_instructions': 'Continue onto <b>Via Sommacampagna</b>',\n",
       "      'polyline': {'points': 'oazsGi}daA_@]GGKGICIEyBg@cBg@e@KUIGAUI[G[G]IICGAICMAO@K@'},\n",
       "      'start_location': {'lat': 45.35848240000001, 'lng': 10.8438944},\n",
       "      'travel_mode': 'DRIVING'},\n",
       "     {'distance': {'text': '0.7 km', 'value': 741},\n",
       "      'duration': {'text': '1 min', 'value': 54},\n",
       "      'end_location': {'lat': 45.3676483, 'lng': 10.8469572},\n",
       "      'html_instructions': 'At the roundabout, take the <b>2nd</b> exit and stay on <b>Via Sommacampagna</b>',\n",
       "      'maneuver': 'roundabout-right',\n",
       "      'polyline': {'points': 'krzsGuceaACAAAC?CAC?A?C?C?A@A?A@A?A@GGKE[IC?e@IWEQ?c@GwAOQC_AMq@K]IUGaBe@_A[c@MKEuAe@QEQESEq@MUCA?WEc@IoBW[EYEw@OMKc@OOIWOQO'},\n",
       "      'start_location': {'lat': 45.3611809, 'lng': 10.8449067},\n",
       "      'travel_mode': 'DRIVING'},\n",
       "     {'distance': {'text': '1.6 km', 'value': 1577},\n",
       "      'duration': {'text': '2 mins', 'value': 103},\n",
       "      'end_location': {'lat': 45.3814449, 'lng': 10.8469712},\n",
       "      'html_instructions': 'At the roundabout, take the <b>2nd</b> exit and stay on <b>Via Sommacampagna</b>',\n",
       "      'maneuver': 'roundabout-right',\n",
       "      'polyline': {'points': 'yz{sGopeaA?CACAC?CAAACAAACAACAAACAAAA??AC?A?A?C?A?A?A@C?A@A@A@A@ABCBA@?@ABA@?BAB?@?B?B?BUPIDUFM@I@KD[@S@G@UFUHKDEBKFu@h@k@\\\\MHMFOFWHc@J}@PSBO@O@K?e@AwAEW?q@CoACeAEI?e@?CAU?o@AwACa@CmACi@CkAEkACm@CO?uCK{@CaGOsBIcACWAaCImAIo@EIEo@Ic@MKEQGk@Qq@U_@M[M'},\n",
       "      'start_location': {'lat': 45.3676483, 'lng': 10.8469572},\n",
       "      'travel_mode': 'DRIVING'},\n",
       "     {'distance': {'text': '1.2 km', 'value': 1152},\n",
       "      'duration': {'text': '1 min', 'value': 72},\n",
       "      'end_location': {'lat': 45.3917116, 'lng': 10.8469633},\n",
       "      'html_instructions': 'Continue onto <b>Via Delľ Industria</b>',\n",
       "      'polyline': {'points': '_q~sGqpeaAmBo@a@Ma@KWCQAk@EK?MDi@@i@?sAHiAFq@BqABqAEo@Em@CiAKmAEO?m@@CA_@BaAFg@DoDn@]D[Dc@DqBLeBFk@ByB@{BB]?s@['},\n",
       "      'start_location': {'lat': 45.3814449, 'lng': 10.8469712},\n",
       "      'travel_mode': 'DRIVING'},\n",
       "     {'distance': {'text': '1.9 km', 'value': 1870},\n",
       "      'duration': {'text': '2 mins', 'value': 137},\n",
       "      'end_location': {'lat': 45.4076445, 'lng': 10.8534053},\n",
       "      'html_instructions': 'At the roundabout, take the <b>1st</b> exit onto <b>Via Circonvallazione Europa</b><div style=\"font-size:0.9em\">Go through 1 roundabout</div>',\n",
       "      'maneuver': 'roundabout-right',\n",
       "      'polyline': {'points': 'eq`tGopeaACMCECECECCECCCEAEAE?E?E@SGMEIAE?E?I?M@O?O?IAIAGASIUIKGo@a@kDiC_BkAYQk@[UIo@WUCSI_Be@_@GcASOCwNeCm@KgJyB{@SGKKISO?C?A?A?AAA?A?AAA?AAAAAGIA?AAA?A?A?A?A?A?A?A@A?A@A?WBIBA?QFOCeAYyA]yHoBe@KMEq@OMEeLkCwAyA'},\n",
       "      'start_location': {'lat': 45.3917116, 'lng': 10.8469633},\n",
       "      'travel_mode': 'DRIVING'},\n",
       "     {'distance': {'text': '0.8 km', 'value': 786},\n",
       "      'duration': {'text': '1 min', 'value': 67},\n",
       "      'end_location': {'lat': 45.414317, 'lng': 10.8532864},\n",
       "      'html_instructions': 'At the roundabout, take the <b>2nd</b> exit and stay on <b>Via Circonvallazione Europa</b>',\n",
       "      'maneuver': 'roundabout-right',\n",
       "      'polyline': {'points': 'wtctGyxfaAAA?AACAC?AACAAAAAAAAAACAA?AAC?C?A?A?C?A@A@A?A@A@C@?@?@A@A@?@kBL}Cw@cBc@u@ScBa@oD_AEAWMa@E_@GYAWBG@Q@{@P[Jg@^OJaClBGFSLULWJSFg@N'},\n",
       "      'start_location': {'lat': 45.4076445, 'lng': 10.8534053},\n",
       "      'travel_mode': 'DRIVING'},\n",
       "     {'distance': {'text': '68 m', 'value': 68},\n",
       "      'duration': {'text': '1 min', 'value': 10},\n",
       "      'end_location': {'lat': 45.4145745, 'lng': 10.8526491},\n",
       "      'html_instructions': 'At the roundabout, take the <b>2nd</b> exit<div style=\"font-size:0.9em\">Toll road</div>',\n",
       "      'maneuver': 'roundabout-right',\n",
       "      'polyline': {'points': 'o~dtGaxfaAA?C?C?A?C@A?C@A@C@ABA@ABA@ABABADAF?D?BAD@D?B?D?B@@?@?@?@@??@?@Id@'},\n",
       "      'start_location': {'lat': 45.414317, 'lng': 10.8532864},\n",
       "      'travel_mode': 'DRIVING'},\n",
       "     {'distance': {'text': '0.1 km', 'value': 98},\n",
       "      'duration': {'text': '1 min', 'value': 16},\n",
       "      'end_location': {'lat': 45.4148923, 'lng': 10.8515023},\n",
       "      'html_instructions': 'Slight <b>left</b> at <b>Via Bussolengo</b><div style=\"font-size:0.9em\">Toll road</div>',\n",
       "      'maneuver': 'turn-slight-left',\n",
       "      'polyline': {'points': 'a`etGatfaA@RAJAF?DAB{@rD'},\n",
       "      'start_location': {'lat': 45.4145745, 'lng': 10.8526491},\n",
       "      'travel_mode': 'DRIVING'},\n",
       "     {'distance': {'text': '4.3 km', 'value': 4307},\n",
       "      'duration': {'text': '3 mins', 'value': 164},\n",
       "      'end_location': {'lat': 45.4104859, 'lng': 10.9037744},\n",
       "      'html_instructions': 'Keep <b>right</b> at the fork, follow signs for <b>E70</b>/<wbr/><b>A4</b>/<wbr/><b>Venezia</b>/<wbr/><b>Brennero</b>/<wbr/><b>Modena</b> and merge onto <b>A4</b>/<wbr/><b>E70</b><div style=\"font-size:0.9em\">Toll road</div>',\n",
       "      'maneuver': 'fork-right',\n",
       "      'polyline': {'points': 'abetG{lfaAONIPADCBGJIJEFGFIBEBIBC?GBM@KAKAKCOGIGKIIMIKGQISEWCUAGAOCe@A]?Y?S@M?A?AJsAd@{ERyBNmC?M@E@I@UBU?I@G?CZwCVuCL_BPwBJaB@SJ{ALaCFyA@UFcBF}ABaABy@JuDBaA@{@FyBD}BBm@BiAF}BBkAJ{EDeBF_CH}DBw@B}@@YL{FB_ANyFP}I@s@Bm@DeBD}B@k@@MFoCD{AR{I^eP?OBq@VgLDwADuBFsC@a@^wNH{CHkBJaCP}CBa@VyDB]NsBHaALkAVkCNwANwANiANmAVkBVeBTyAh@eDVyAXwAp@uDJo@p@wDP}@FYLu@F]Ha@Fa@'},\n",
       "      'start_location': {'lat': 45.4148923, 'lng': 10.8515023},\n",
       "      'travel_mode': 'DRIVING'},\n",
       "     {'distance': {'text': '1.6 km', 'value': 1612},\n",
       "      'duration': {'text': '2 mins', 'value': 100},\n",
       "      'end_location': {'lat': 45.4097528, 'lng': 10.9134146},\n",
       "      'html_instructions': 'Take the exit toward <b>Brennero</b>/<wbr/><b>Verona Nord</b><div style=\"font-size:0.9em\">Toll road</div>',\n",
       "      'maneuver': 'ramp-right',\n",
       "      'polyline': {'points': 'qfdtGqspaALO@A?A@GNu@\\\\iBJk@VsAP_AJi@X}ADUN{@l@wCBK?CZ_BHYNi@?A@EFOFWHSHUFOJUFQBEFKBEBCFIDCBERONMHGNMDCR?@AXMHCJC@?NCDALABAN?RAD?R@@?h@@~@Bb@BP@PBN?`@?N@D?HANALEJCTKRKBCJIJIJKDGHKHMFIFMBEBGDGBKBE@GBGBIBMBK@IBMD]@S@M@Q?C?G?I?G?G?I?K?QAGAMAYAIEU?CCMEOCG?ECEEMEKQ]IOGKMMMOOOOKKGMGOEMCMEOAQAU@O@QBWDSDUFKDWHA?c@L_@HOBI@IBG?K@M@G@M?IAKCCCI?MCSCUGIAWG[E]GUESEUEQCg@Ic@I]E]@'},\n",
       "      'start_location': {'lat': 45.4104859, 'lng': 10.9037744},\n",
       "      'travel_mode': 'DRIVING'},\n",
       "     {'distance': {'text': '85.4 km', 'value': 85380},\n",
       "      'duration': {'text': '49 mins', 'value': 2937},\n",
       "      'end_location': {'lat': 46.0278779, 'lng': 11.1220836},\n",
       "      'html_instructions': 'Merge onto <b>A22</b>/<wbr/><b>E45</b><div style=\"font-size:0.9em\">Toll road</div>',\n",
       "      'maneuver': 'merge',\n",
       "      'polyline': {'points': '}adtGyoraAWGq@Ma@IoDq@UGUEy@O}@SSESCUGEAOCWEQCSCUE[EUEUCOAUCA?WCYCmAIA?UASAUA_@AA?w@Ai@?}@?I@a@?a@BG?qAHg@D{@Hg@HkARaAPe@JC@e@NI@k@PYHUFMDc@N[Je@PYJa@N_C|@iAb@e@PmAd@eBp@OFsAh@{@\\\\qAd@qAf@qAf@c@PiAb@aA^_Bl@oAf@{An@MFQFy@ZmAd@{@^{@ZQHSHEBKBOFI@KFMDCBoC`AYJwAh@cA\\\\YLy@ZWLUHe@Tu@XoAf@YL[PgAf@a@RSJy@f@c@TIFoBlAKHq@f@c@Z{AjAUREDWRONSPa@b@_Az@]\\\\STa@`@ONMNOPg@h@q@v@_@f@CBWZWXg@p@EDEFW\\\\Yb@a@l@_AxAsAvB{@vAiAnBMP[h@OVS\\\\CFYb@EJa@l@o@fAS\\\\KPa@r@]j@OTOVi@~@]n@MRiAjBuC~EeBvCk@`A]l@k@~@[j@w@lAADMRi@|@S^w@nAy@tAeAhB}@vAaDpFCFU\\\\OVMT]j@MTOVa@p@IL[j@KNeAhBCDQZw@zAi@hAUd@w@dBm@xAg@rAm@`BUt@IV_@jAK^Ql@EPKZGZIXU|@GTIZI\\\\GXI\\\\I`@ERI\\\\Q|@]lB[nBMv@g@fDU|AObAg@fDkA|Hs@`FSrASvA[rB}@`Gu@jFo@bEu@hF_@lCm@lEUtBOrAQ|Am@lFi@|E{@`IGd@ANK~@QvA[tCYjC[tCUtBk@bFOxA[pC[rCQxAK`ASjBWzBGh@Gh@[rCe@hE_@lDa@nDa@tDMjASdBWnBMfAOfAEZMv@O~@SpAG`@If@Kf@UnA_@pBADe@dCi@nCADc@jBI\\\\CJMd@Kb@a@bBg@jBUt@ABYdAaA|Ca@nAm@hBk@`B}@jCEJM^eB`Fc@pAwAdE_@bAy@bCoArDWt@c@lAqAtDMZADg@xAw@zBa@lAoApD{@dCKVIXIRWt@w@zByAjEy@~BWv@c@lAm@bBaAtCeAzC{@dC]~@Yz@q@jBSj@Sf@?@[x@[x@[|@c@`AKXMXCF]p@i@fAi@`A]j@m@|@m@z@m@z@s@x@_AfAe@f@ONu@p@cA|@w@p@u@l@u@n@w@l@URm@f@EBWTEBYTCDMHgA|@_@Zy@p@gA|@]X_@Z_At@iA~@mAdA[XED_@\\\\UTKJu@t@w@v@u@v@KLcAhAEDm@r@u@~@k@t@UVKNi@t@SXc@n@U\\\\UZ_@j@m@~@{@vAy@vAy@xAIP_@r@w@~Aw@`BEHsAtCINGNs@zAuAzC_@z@GJSb@ADMTGP_@x@u@`B_D|GMVKVOXSb@c@|@Yj@o@hA[h@]h@]d@_@h@UZ]b@QRMPOP]^_@`@]\\\\c@\\\\ONe@^i@`@k@`@OJoBrAQJOJeC~AaDrBUNID]TaBdAu@d@iBlAs@b@IFcEjCw@d@kBlAwDbCeC~AwCjBsGdEyAx@u@b@_@Rk@XiAj@_A^i@Tc@P}Br@YJcB`@YHcAPIB{@No@HaBTo@Fu@DcAHuADkCBo@AcAAMAA?IAM@E?_@Ce@AcCKeBKqAGc@CwAG_CMIA}BKk@C[CA?c@CkAG]Ac@Ca@CA?c@AKAcACmACw@AO?M@w@?W@}@@S@_ADU@O@g@BO@UB[BS@UB}@JmANeBVaBXa@FI@YD}Ex@c@FwF~@WDc@FiBZeAPqARmARs@LaC^K@oB\\\\iDh@wF~@MBOBo@JgBX{@LM@oANi@HiBPsAJM@{ALK@i@DoDXUBM@K@uDXi@D_BLcCRWBSBeF^{@FQ@SB_BNqBNc@DYBW@WBYDgCRc@BiDVOBO?UBYB]B]DS@}@F]@W@W?I@]@k@Bm@?Q@G?a@A]?a@Cc@C]C_@CIA]EUEKCs@MQE[ISEc@Mi@Oa@MME]Ma@Q[OOGi@Ym@[g@[k@]AAs@i@IGYWOKSQm@k@[[WU_@a@_@c@]a@QUGIGKQUKQe@s@e@u@[k@GKQWCGKSGMAAa@w@Wi@O[s@}AsByEGM_@{@IQYo@Se@w@gBs@cBa@aAQ_@EKWk@s@cBUk@a@}@y@kBy@iBi@oAk@sAmAmC_@{@e@iAqAwCcA}BQa@MWQ_@Sa@]u@a@q@c@u@a@m@g@w@U]c@i@mAwAaAaAkAeAmA}@q@g@i@[uAu@QIeAe@cBm@m@QqAYiB_@yBa@gCc@SE]G]G}Ba@oCg@kGgA]GwAWcAQcAS{FcAw@Ms@MqASs@McFo@uGw@yFo@sDe@wCa@gASeASyCy@SIq@USI]Mw@Yg@Ua@Qg@Uo@YSMkAq@k@]kAy@QM_BmAoBcB][iAkAq@s@cBoBMQ{@iAgA{AEIcA{A?A_@o@s@oAYi@i@cAi@iA[m@_@_AIOe@kAO]GOEMKYk@_Bw@eCq@_Cs@sCc@qBGYEUe@cCc@sCWiBGi@Gm@AEIs@Q_BQqBGw@Is@G{@IaAAWAMWeDIgA?K[gEQ_Cc@uFg@yEWkBM{@EYc@eCc@qBGSCOcAuDe@}AOc@Oe@_@cAi@qAAA[s@[q@Sa@Ue@e@{@q@mAU]OWOUi@w@KO}@iAIOSUe@i@OQEEY[GGy@y@AAa@_@SSSOSSQM}@m@ACoBmAGEWOOIQIOI[QuBcAo@YwAo@gBs@QG_Ae@q@]QIyAq@IEiB{@wBeAIGs@a@o@a@{@i@w@g@GEaAs@_@WGGoAaAAA{@u@MK_Aw@OOWUaA{@]Y_Ay@e@a@GGSQa@_@eA}@y@u@q@k@_@]q@m@II{AqAQOcA}@u@o@a@_@a@a@{BoBUSgAaAuAkAAAgBaBiBaBkBaBQOe@_@QOQOQOQOSMQOQMQMw@i@SOOKc@[uBwAaCwAiAo@c@WSIOKOIw@_@oAm@w@][Oo@Y_@OMGQIKEYKa@Oa@QSGMGc@SMGQI[Oi@Uc@SIG_@UQM_@U[WQKe@_@YSWSUQUSa@_@YWMM]]KKAAIGEEKIACIGOOCCEEEEMMCCAAEEIIII?AECW[SSSUo@o@QYSQg@g@SSQQg@e@MMEECCSSECKKOQKMUSEEAAAAOMg@e@a@a@gEeEgAgAAA[[AAEEiAiAaA}@wAwAyAwA]]]]_B}AkCgCWUYWy@u@a@_@a@]SQiBwAiCuBo@i@qB_Ba@]oB_BcBqA]Y[YMKqAeAA?wAkAa@]MIQOeBuAsAeAa@[YUaCoBwCeCcCmBqAeA{BgBcCqBkB{Aa@]cAy@k@c@_Au@a@[GGUSGEa@[y@s@{BgBiA_AwAiAqAkA_@[eC{BkEgEuAyAm@q@]_@}@mAi@s@{AsBcAmAOOMMYWa@a@}@s@e@]a@W]WOKwA_A}@o@o@g@aByAc@_@a@_@y@{@{@{@oAqAaAaAyCmCqB_BMKmByAqBuAo@_@iBmAgAu@}@o@gAy@ECqBuAYS}AgAw@g@{AcA}@m@YSwDiCkA{@iCeBo@c@OKA?[UAAiD{B_Am@]Wy@i@uAaAsBuAe@]c@Y_@Uq@c@iBeA}BiAqAk@qAe@wAe@_Be@AAoCw@q@Om@Qs@Q_FqAq@SmA_@aBk@wBw@qBy@iCoA_@QKEi@Yi@YuBqAwBqAOIgBgAOKeBeAYQiC{Aw@g@aAk@aAo@{CmB}DgC_DoB{CkB}AaAsBoAoBkA?AwBmAcB}@?A{BeAMGwBaAi@Si@UeBq@iBq@iAa@c@MmBi@wBg@q@Qm@OyBc@qCe@}B]}BYoC_@q@Kc@Gu@KoCc@OCaAQ]I[Iu@Su@Wm@Qg@Uy@Yo@[m@[a@WSKa@W_@WcAs@KIQOQOKKQMQMKKKKWW[Yi@i@g@g@e@i@W[QUe@o@q@_AS]Wa@{AaC}@yA{@{AMUEGMS_@q@q@gAMUYe@QYyAgCi@{@m@eA}AiC[g@AAo@eAiB}Cu@kAOYq@eAqAwBYa@kAaBwAiBy@}@g@i@y@w@i@i@eA}@u@i@m@_@i@[q@_@m@]k@Yc@Su@[QKo@Yg@SMGWK{@_@}@_@gCgA_CcAy@_@YK]O_Ac@WKk@WUIkAe@m@Ws@[iAg@y@]OIsAk@aBq@yBaAOIg@UeAg@aAc@y@c@w@g@w@e@gAu@g@a@[Ss@i@y@q@]]QM[YkAeAWUcC{B]]u@q@c@a@s@o@][CAEE_@]_@]cA_A_A{@iAcAc@_@cAy@s@k@s@i@w@i@{@k@m@_@IE]UA?u@g@gAo@_CwAmBkAoAu@c@YuAy@iAq@q@c@[Q}@i@y@i@i@[w@g@q@_@GE}@g@c@Y]UKGeAo@g@[_Ak@g@YSM]Ui@[m@_@g@Y_@Wk@]g@YIGYQECc@Wy@g@c@YoAw@a@Y{@k@i@_@e@]e@]QQSMQOQOSOQQQOe@a@QQWUGGAAMKCE]]WWc@c@mAsA[_@c@g@SYGIa@g@_@g@OSSUYc@GGm@_Aq@eAa@o@g@y@q@mAU_@AC]q@_@o@Sc@[q@Ym@cAaC_AyBkBoEeBcEUk@iAqC_@y@GQKW]w@Ui@i@oAyAqDaAcC[y@Qg@Qi@GOIWm@wB]mAc@kB[uA[yAKq@EYEWOcASqAOuAIw@WsCIaAGo@CUG{@IiAQiBC]E[E]Iw@Ec@CMGe@G_@COCOEYE[[aBWkAGWIc@I]CIIWUu@Ok@CGSo@Mc@c@oA_@_Ai@qA{@uBYq@Qe@GOg@iAk@uAsBaFiAqCo@aBw@oB]_Aa@iA]aAe@wA_@iA{@oCe@yA{A{Es@_Ck@kBm@iB}@yCA?s@_CY{@Qk@Ww@Uu@[eA[aAY}@[}@g@cBUu@y@kCi@cBKYUw@_AmCCGi@sAQ_@Qe@[o@u@}AKQKOo@gAe@s@i@s@c@m@_@e@_@a@e@g@e@c@k@k@SOu@o@i@a@iAy@EEa@WmBuAMIUQ}@k@w@k@u@i@e@[aD{BcBkAq@e@{@m@]W}@o@iAy@e@]oA{@s@e@mA{@}CwB_Ao@wAeAaBiAs@g@uByAkBsAm@a@_@W_@Wc@[]WKGg@]sA_Aa@]WSKIk@k@]]w@_Ae@o@m@y@U_@w@sAe@cAkAgCe@gA}@uBaA}B_AuBwAeD}@wBy@kBwBgFiAkCcAyBe@cAu@uAQ[w@qAGKU]o@}@GIs@}@QSq@u@cAaAs@o@aAs@OK_Aq@oAs@A?qAo@cBq@qBs@kBo@_Bi@yBu@_Cy@}Ai@qAc@eDgAyE}AkBo@wBs@cEuAsAc@EAsBq@o@SeC{@uBw@k@Um@[u@a@e@Y{@i@m@e@[UKIOM{@q@a@]kAaA{@s@u@i@m@c@iAs@u@a@s@]MGSIUIoAe@a@KeA[eB]s@K_BUwAQ]Gi@GUEUCQCC?UEi@Gg@Go@GMA_@Gs@I_AK}@MSCo@I{Da@{BMeACc@Ag@?W@i@@M@G?i@DQ@U@WDSBSBi@HA?k@Lk@JUF_@JeAd@eBp@}@`@qBdAqAn@oAn@y@b@yBhAy@`@mAl@mAl@}C|AiCrAg@Ve@Te@Va@Rq@\\\\}@d@{@TYNs@^kAl@cBbA{AfAeA|@c@t@IHWXmEtEMLMNOLk@n@UVQNOPm@j@wAjAeBpAa@XiAp@i@XUL[N_@PgBv@gAb@w@\\\\oAh@{@b@s@\\\\{@d@y@b@e@X_@Vm@b@c@\\\\A?g@`@wAlA}@v@_@\\\\SPc@^wApA]Xw@r@u@l@?@iAbAgAx@u@h@w@h@q@`@w@^o@Zs@Xq@Vk@Po@PE@k@LWHA?k@Hg@Hk@H}@H{@DS?q@BwADw@BwABe@@aABwCFO@WBS?S@a@@w@FeAHc@FYBy@NsAToCf@}@Nk@HYD_@FYBi@DqAHY?m@BaCDmB@M@UAK?_@@y@@c@@]?i@@U?i@@k@@_@@S?K?W@e@?i@@c@@q@?i@@mABA?Q?]?E?a@@W?U@i@?w@@q@@k@@i@@a@?i@@]@U?a@@]?g@@k@BU@}@Di@Dk@Di@HWB]FMBG@qAX_AVk@RC@c@NA@g@ROFGB_@PGB_@PULgAh@k@Xm@\\\\eAh@KD_@PGDm@Vu@Z]L[JQFWHa@LSFo@PUD_@HSDYFYDG@YDYDA?UBKBUBUBW@[Bg@BC?M@[@s@@e@?o@?E?[?QAa@AKAQAUAaAIk@GgBW_AQIC_@IOE[Io@QCAeA[}@Yk@Sc@MKEm@SUGEAKEi@Oc@IICUGQC_@Ig@Ik@Gi@Ge@CWCI?UA_@A_A?K@o@@y@Di@Ds@Hi@Fu@LQDQBMBm@La@Hg@JUDUDSDUDSDa@HGBSDSBSDUBSBSDSBU@UBSBA?g@Bw@Di@?i@?k@AeAEs@IWC{@M}@QEAk@MOEc@Mg@QKEGCy@[AAOG_@SiAk@o@a@i@[AAkAs@uCkBmAu@cC}AECGEsAy@}ByAqAy@AAOIQMwFoDe@Yy@g@sA{@OIMISOg@YYOMGSIc@UYMWMo@Wk@Qc@O[Ie@M_ASYEm@KqAS}@M_AM_AKuBYGAYCAAw@IiBUyBYc@E_Fo@w@Ks@IWEw@KiAMsAQ}BYuASu@K?ASCmASMCSE_@Iu@OYI[I}@UMEKCs@UgBk@iDuA{EmB_@O]OyEmB}B_AiCeAs@YeBs@aAa@_Bo@k@U}@_@kAe@GCWM_A_@iAe@{CoAo@[u@a@WMOIe@Ye@Y[UMIMIs@k@g@a@g@a@MKi@g@YY[[g@k@y@aAUYe@m@cAwAu@gAoByCqCeEgC{Dk@y@[e@]i@iBoCqCcE[a@EIIKKOU[k@q@EGIISWaAgAyA_BUSe@g@GEw@u@ECeA_A_@[EEe@_@MIg@a@c@[e@]e@]g@]e@[sA_AECkBqAy@i@oCmB{@m@OIGGCCCAWOCCCCo@e@iCeBkAy@aCaB_@WoCkBaCaBwAcA_Ao@y@i@UQs@g@w@i@uA_A{B_Bm@c@YQYSoA{@m@g@y@q@i@g@k@i@YWqAqAKKUY]]m@q@ACUW[][_@QWGGc@k@EEm@y@MQc@q@QWq@cAAEQUQYEGS]EGk@_ASa@OWQ[ACGIGOWc@OYYm@MWEIUe@s@yA]s@e@cA[o@MYO[Q_@]u@e@}@wA_DYm@g@cAUg@Ym@e@cAYm@MUISc@_AqAmCcBoDEIEMIOi@iAi@iAcBqDk@iAu@aBg@eAi@iA]s@?AOYEKAAMYGMYk@wFuLaAqB]w@y@cBSc@O]i@iAUi@Ug@Wk@i@wAQc@KYOg@Y}@Qs@Qo@Om@Mm@Ou@Mk@G_@E]M{@Q{AK_AEe@IiAEi@Cg@AQCgACe@A}@?iA?eB@gAB{@B{@Dw@B_@@[JwABc@Jy@Fk@LmAJ{@Hm@Hm@Ho@NeAD_@D[H{@PuAHu@F[NmALeAN{APkBFiAHsABw@?MD{A@w@A{B?s@CkAAg@AIAQCq@A[IiAKmAO{ACYM}@CUKm@Ko@I_@EWKi@IYGYI[GYIYIYI[IWK[IWKYKYIWKWKWKWMYKUAEIQMWIQCEYi@MWOUMSCGIMOSU]GKOSOSMSIIUYOSMM[_@a@c@eBkBCC_@_@q@s@c@c@_@a@a@a@s@u@c@e@q@q@c@e@a@c@a@a@cAeACC[]IIIIa@c@s@s@eAiAMKk@o@ECe@g@k@m@EC?As@s@qAuA}AaBMMOMa@e@YYc@c@SUUWs@s@s@w@_AeAsA}AOQGGW[UY[_@aBoBqDiEeAqAwBgCaAkAGG?ASUGIq@w@_BoBoEmF_CqCuA}Aq@s@wAwAw@u@c@a@][u@m@m@c@m@e@YW_BcAcAq@}@g@e@YqAq@eAg@oB{@u@[cA]{CgAcBo@qBs@mC_AuBw@aDiAsAe@uAg@OG_@M}Ai@e@Q[MiAa@k@Sw@U_@M_@Kw@SwBg@w@OqB]kEg@{E]a@AcDW_DUyCUoBOoAIoAKaBMwBOiHg@sAKoBO_@EoGe@eAGOC}Gg@}Fa@c@EaGe@_BMsAKcIk@mAKQAA?a@CA?CAYCkAIe@C_AGk@G{@EcAIaAIy@Ek@Gk@Go@Gi@IWEc@Ik@Mk@Oc@MYKc@Qs@Y]Oa@Qo@]}@g@g@YOIOMOMKGs@i@cA}@wAqAg@a@WWiE}DuAsAg@e@iAeAmCaC{@w@_CyBq@m@e@e@c@_@g@c@IKu@o@GGi@e@g@a@u@k@g@_@u@k@SMUOc@[a@WSOUMe@[sAw@c@UWOa@U}@c@c@SECGEIEWM}@a@mBw@mAe@i@Q}Bs@o@SqCs@e@ISEwBa@A?WG]Eg@IUEOCMAm@G]GOAs@Ig@EQC_@Ce@Co@Ek@E}@E{@Cm@AIA_@?a@A[A{@AmAA_ACc@?gACa@A_@?_@Aw@Ay@Aw@Ac@AiEGwCEcACuCEiDGYAU?w@A_AAkAC[Ay@AeAC_BE[AgBIC?]A[A[AkAEG?_CKa@Aa@CA?c@CeCKu@EkAEy@Em@E}@Cy@Eg@Ci@Cg@CC?SAKASAi@Cq@Ei@Ci@Ae@Ai@Ak@Cs@?A?_AAy@?k@?{@?y@?k@?i@?_@AI?M?g@?}@?i@Ai@?}@?{@?_A?m@Ay@?k@?w@?wA?eAAg@?i@?g@AW@w@?w@?w@Ak@?w@?y@?_@?S?M?I?G?wB?u@@'},\n",
       "      'start_location': {'lat': 45.4097528, 'lng': 10.9134146},\n",
       "      'travel_mode': 'DRIVING'},\n",
       "     {'distance': {'text': '0.8 km', 'value': 797},\n",
       "      'duration': {'text': '1 min', 'value': 75},\n",
       "      'end_location': {'lat': 46.0349927, 'lng': 11.1219413},\n",
       "      'html_instructions': 'Take exit <b>Trento Sud</b> toward <b>Trento</b><div style=\"font-size:0.9em\">Toll road</div>',\n",
       "      'maneuver': 'ramp-right',\n",
       "      'polyline': {'points': 'gy|wG_h{bAII?AA?G?q@?Q?W?a@@e@@Q@y@DUBY@SAO?G?C?A?K?YAK?E?YA}@I]COAWCg@AYAQ?G?m@?sB?cB?q@?W@]BSBKHS@K?k@B{BHA?m@BA?A?ULA@KDUDK@ICQIIC'},\n",
       "      'start_location': {'lat': 46.0278779, 'lng': 11.1220836},\n",
       "      'travel_mode': 'DRIVING'},\n",
       "     {'distance': {'text': '0.3 km', 'value': 270},\n",
       "      'duration': {'text': '1 min', 'value': 37},\n",
       "      'end_location': {'lat': 46.0345685, 'lng': 11.1253165},\n",
       "      'html_instructions': 'At the roundabout, take the <b>1st</b> exit',\n",
       "      'maneuver': 'roundabout-right',\n",
       "      'polyline': {'points': 'ue~wGcg{bAAA?A?AAA?AA?E_@@K?K@MBSFe@VsBTqBB]B]@]@a@?c@?Q?s@@M?E?E@C@C?ENe@'},\n",
       "      'start_location': {'lat': 46.0349927, 'lng': 11.1219413},\n",
       "      'travel_mode': 'DRIVING'},\n",
       "     {'distance': {'text': '0.4 km', 'value': 401},\n",
       "      'duration': {'text': '1 min', 'value': 41},\n",
       "      'end_location': {'lat': 46.0363329, 'lng': 11.1252074},\n",
       "      'html_instructions': 'At the roundabout, take the <b>5th</b> exit onto the <b>Comano T</b> ramp to <b>Trento Centro</b>/<wbr/><b>Tione</b>/<wbr/><b>Bolzano</b>/<wbr/><b>Val Rendena</b>/<wbr/><b>M.di Campiglio</b>',\n",
       "      'maneuver': 'roundabout-right',\n",
       "      'polyline': {'points': 'ac~wGg|{bAp@[HCHEFEFGDEBCDKDKDQ?E@E?C?A?I?MAOCMCMACACCEGICEECIGAAA?CAA?CAM?C?E@G@GBEBIBWLMFUJGDE@CDEBABCBADCBABADADCBQLC@E@EBIBC?SFSDC@SF_@PQJA@EB]TUNOHA@ABABAH'},\n",
       "      'start_location': {'lat': 46.0345685, 'lng': 11.1253165},\n",
       "      'travel_mode': 'DRIVING'},\n",
       "     {'distance': {'text': '3.6 km', 'value': 3571},\n",
       "      'duration': {'text': '3 mins', 'value': 178},\n",
       "      'end_location': {'lat': 46.0645006, 'lng': 11.1114413},\n",
       "      'html_instructions': 'Merge onto <b>S.da Statale 12</b>',\n",
       "      'maneuver': 'merge',\n",
       "      'polyline': {'points': 'an~wGq{{bA[N_@P_@TQJYR[TCBMJURmAfAs@n@c@^iA`A]ZmC~Bm@n@a@d@CBKJML[^QT{@`A_AdA{@~@Y\\\\c@f@eApAqAxAeBnBq@x@gBpB}@bAc@f@ORKVoBzB]`@]`@ABSRMNq@x@c@d@o@v@IHm@r@WVy@~@ABMNWXEDg@l@UVQPSNc@^c@ZEDs@h@a@XWPa@XOLYRK?A?KFQJC@GBKDMDMDKDSDQBM@M@M@U?WAo@GYG{@[o@UECSEKCSCQCKAG?KAG@K?K?K@E?G?E@MBG@E?IBC@E@GBE@EBEBGBEBA?GDIDIDEDEBKHIHA@EFIFCDKJKPKNINKPKPQ\\\\EFMRm@dAuChFMVIJA@MTWZWTEDWPUNKDKF[JQDQBa@DU@G@g@?WAE?CAYAC?e@G[Ec@GkASaAQeAQIAo@MUE}AYmB[?AC?mAUqAUy@O_AQa@Gg@K[ESECA[Ge@IWEm@Ky@K}Dq@a@MIAuCg@a@IOCKAKAWEMA]C'},\n",
       "      'start_location': {'lat': 46.0363329, 'lng': 11.1252074},\n",
       "      'travel_mode': 'DRIVING'},\n",
       "     {'distance': {'text': '0.1 km', 'value': 106},\n",
       "      'duration': {'text': '1 min', 'value': 9},\n",
       "      'end_location': {'lat': 46.0654279, 'lng': 11.1115596},\n",
       "      'html_instructions': 'Take the ramp to <b>Trento Centro</b>/<wbr/><b>Piedicastello</b>',\n",
       "      'maneuver': 'ramp-right',\n",
       "      'polyline': {'points': 'c~cxGoeybAMMECCAAAEAEAICGAE?A?CAG?G?K?I?I@W@I@M@U@'},\n",
       "      'start_location': {'lat': 46.0645006, 'lng': 11.1114413},\n",
       "      'travel_mode': 'DRIVING'},\n",
       "     {'distance': {'text': '0.6 km', 'value': 587},\n",
       "      'duration': {'text': '1 min', 'value': 70},\n",
       "      'end_location': {'lat': 46.0702667, 'lng': 11.1142125},\n",
       "      'html_instructions': 'At the roundabout, take the <b>1st</b> exit onto <b>Lungadige S. Nicolò</b>',\n",
       "      'maneuver': 'roundabout-right',\n",
       "      'polyline': {'points': '}cdxGgfybAACCACACAA?CAC?C@CMCUAIAGCC?AACIIKGe@[OIGEUMMEUKi@QwB}@_@OqBy@y@[sAi@]Ky@SC?]EKCgCy@[O_@U'},\n",
       "      'start_location': {'lat': 46.0654279, 'lng': 11.1115596},\n",
       "      'travel_mode': 'DRIVING'},\n",
       "     {'distance': {'text': '0.8 km', 'value': 805},\n",
       "      'duration': {'text': '2 mins', 'value': 91},\n",
       "      'end_location': {'lat': 46.0772014, 'lng': 11.1146057},\n",
       "      'html_instructions': 'At the roundabout, take the <b>2nd</b> exit onto <b>Lungadige Marco Apuleio</b>',\n",
       "      'maneuver': 'roundabout-right',\n",
       "      'polyline': {'points': 'ebexGyvybA?A?A?A?A?AAA?AAA?A?AA??AAAAAAAA?AAA?AAA?A?A?c@g@w@m@EE{@c@QIa@KSAc@Ma@Mu@UeFc@eBG}@@mC\\\\_BRyE`AUHODQFq@VQJ[PC@'},\n",
       "      'start_location': {'lat': 46.0702667, 'lng': 11.1142125},\n",
       "      'travel_mode': 'DRIVING'},\n",
       "     {'distance': {'text': '0.1 km', 'value': 102},\n",
       "      'duration': {'text': '1 min', 'value': 17},\n",
       "      'end_location': {'lat': 46.07757600000001, 'lng': 11.115808},\n",
       "      'html_instructions': '<b>Lungadige Marco Apuleio</b> turns <b>right</b> and becomes <b>Ponte S. Giorgio</b>',\n",
       "      'polyline': {'points': 'omfxGiyybA]aBOm@]_B'},\n",
       "      'start_location': {'lat': 46.0772014, 'lng': 11.1146057},\n",
       "      'travel_mode': 'DRIVING'},\n",
       "     {'distance': {'text': '0.6 km', 'value': 571},\n",
       "      'duration': {'text': '2 mins', 'value': 101},\n",
       "      'end_location': {'lat': 46.0758674, 'lng': 11.1226597},\n",
       "      'html_instructions': 'At the roundabout, take the <b>2nd</b> exit onto <b>Via Felice e Gregorio Fontana</b>/<wbr/><b>Via Fratelli Fontana</b><div style=\"font-size:0.9em\">Continue to follow Via Felice e Gregorio Fontana</div>',\n",
       "      'maneuver': 'roundabout-right',\n",
       "      'polyline': {'points': '{ofxGy`zbA@?@A@A?A@?@A?A@A?A@A?A?A?A@A?A?A?A?A?A?A?A?A?A?AAA?A?AAA?A?AAAHkAHm@P}@TcBT{An@eF\\\\yBr@sFPgARcBBSBODQBKr@qAJS'},\n",
       "      'start_location': {'lat': 46.07757600000001, 'lng': 11.115808},\n",
       "      'travel_mode': 'DRIVING'},\n",
       "     {'distance': {'text': '0.1 km', 'value': 139},\n",
       "      'duration': {'text': '1 min', 'value': 27},\n",
       "      'end_location': {'lat': 46.0747235, 'lng': 11.1219304},\n",
       "      'html_instructions': 'Turn <b>right</b> onto <b>Via Giovanni Segantini</b>',\n",
       "      'maneuver': 'turn-right',\n",
       "      'polyline': {'points': 'eefxGsk{bAdFpC'},\n",
       "      'start_location': {'lat': 46.0758674, 'lng': 11.1226597},\n",
       "      'travel_mode': 'DRIVING'}],\n",
       "    'traffic_speed_entry': [],\n",
       "    'via_waypoint': []}],\n",
       "  'overview_polyline': {'points': 'emysGkseaA_GjP@b@yA|Ew@Z_Ce@{HaEsGcBcBKyG_AgRqEcIcBq@u@e@OYj@qG`CeFbBcIKyYw@{U_AkGiBaHoAwNNiJImO|A_IH_Au@i@UgEm@}MkIub@{IiBoAa@ImCMgM_D_AUeLkCwAyAACCGCGSKiC`@kSgFyACqC~@wG`EWDSfAuAfHy@fAmADqAqBKmDtCi]bCgk@bG}kCnB}g@rBeTbJ_j@bFyVfCqIpDkBjIJtDcCx@eEW_EmCqDeCKkDz@wDIo]aGaMe@aRjCmv@|YePdGyS`L_MlLuPtV{a@zr@wPlYeI|QwBpH_Gl[{QjqAoVhzBqGp]oP~h@qj@z_BuCpHmIvMqQbPgTzQcPdSuSpa@gO`[}LdM_d@pYe]`TmN~EeM|A}JBe]aBkOQmSvBsr@bL}[jDab@dDsT~AuLUkNcFkKyJkLcU}N{\\\\sRma@_MiLqGsCcJmBoWsEmU_Eme@gGsKsDaLcH_OgPaL_UaH_X{BaRoFcn@}EyRsEaKsKsNsPiKe[wO}h@od@gT_ReXoOcKmEyJ}HyL}Lun@ol@q`A{v@sNoLwTeV_UeRoS_RqQ}L{`@gXkKgHwRsIeV}GiR_Jmp@ka@mQkJwRoGue@eIyIuDsEgDuEsEgI}LgQaZqNoTyKmJkYmMaZkM}LiHaLyJqTqR}ZmRqg@a[_JmH}LeOcGcKuL_YuOwa@wCuOyAoPuCmSkIaVyLoZaKu[kOgf@oEqLqGcK{TgQoe@m\\\\}UgQqJqPqQgb@wHiNiIcIeSuIu[sK_UqHqLkGaG}EoI}EgPgDsEk@cHy@{P{@gDXeJnCke@|UyObJkJjKoKnIsLlF}J~FoJhIkKnIaJtD_IdAmP^oV|C}e@x@mQVwGl@wGnBsOlH}JzBaLVsIeAoHwBiMiCmG@}G`AkJbBuFRiJeAqTkLw\\\\aTiFeCkJsB{^uEmXmEcm@yUaVaLyGeGyReY{SeYgO{L}{@am@aOeOcJiNy[eq@gMeXoTuf@uDkW?{O|@cLzDs]NiPq@eKuC_OwDiJoFwH}RsSma@ic@ad@ci@cJcIiPeJui@wR}NmDgb@eDscAuHg[{BsIeAqHuCq]cZwTkRwOyI_R{FkGeA_RiAy_AaBsi@uBagAG{ROiJl@PaG`@wIfAiB~@eCkAkAqHxDwFvD_RbQai@dn@oJ`HeBf@aDKqGgAgBj@eCpCmG~K_CvBsDf@eD[wYgFwYgFaC?[iAmDeBaV}IKU}DmC{Bi@_M_AqPbDm@\\\\a@_Bi@oCFIB_@lEy]vBsIdFpC'},\n",
       "  'summary': 'A22/E45',\n",
       "  'warnings': [],\n",
       "  'waypoint_order': []}]"
      ]
     },
     "execution_count": 145,
     "metadata": {},
     "output_type": "execute_result"
    }
   ],
   "source": [
    "distance"
   ]
  },
  {
   "cell_type": "code",
   "execution_count": 16,
   "metadata": {},
   "outputs": [
    {
     "data": {
      "text/plain": [
       "dict_keys(['bounds', 'copyrights', 'legs', 'overview_polyline', 'summary', 'warnings', 'waypoint_order'])"
      ]
     },
     "execution_count": 16,
     "metadata": {},
     "output_type": "execute_result"
    }
   ],
   "source": [
    "distance[0].keys()"
   ]
  },
  {
   "cell_type": "code",
   "execution_count": 21,
   "metadata": {},
   "outputs": [
    {
     "data": {
      "text/plain": [
       "[]"
      ]
     },
     "execution_count": 21,
     "metadata": {},
     "output_type": "execute_result"
    }
   ],
   "source": [
    "distance[0]['warnings']"
   ]
  },
  {
   "cell_type": "markdown",
   "metadata": {},
   "source": [
    "# Test with landmarks"
   ]
  },
  {
   "cell_type": "code",
   "execution_count": 19,
   "metadata": {},
   "outputs": [],
   "source": [
    "landmarks_10 = [\"Paris, France\",\n",
    "            \"Istanbul, Turkey\",\n",
    "            \"Rome, Italy\",\n",
    "            \"Amsterdam, Netherlands\",\n",
    "            \"Barcelona, Spain\",\n",
    "            \"Prague, Czech Republic\",\n",
    "            \"Vienna, Austria\",\n",
    "            \"Milan, Italy\",\n",
    "            \"Athens, Greece\",\n",
    "            \"Berlin, Germany\"]\n",
    "landmarks_50 = [\n",
    "            \"Paris, France\",\n",
    "            \"London, United Kingdom\",\n",
    "            \"Rome, Italy\",\n",
    "            \"Istanbul, Turkey\",\n",
    "            \"Barcelona, Spain\",\n",
    "            \"Prague, Czech Republic\",\n",
    "            \"Amsterdam, Netherlands\",\n",
    "            \"Vienna, Austria\",\n",
    "            \"Berlin, Germany\",\n",
    "            \"Madrid, Spain\",\n",
    "            \"Florence, Italy\",\n",
    "            \"Dublin, Ireland\",\n",
    "            \"Lisbon, Portugal\",\n",
    "            \"Budapest, Hungary\",\n",
    "            \"Athens, Greece\",\n",
    "            \"Edinburgh, Scotland\",\n",
    "            \"Venice, Italy\",\n",
    "            \"Munich, Germany\",\n",
    "            \"Stockholm, Sweden\",\n",
    "            \"Copenhagen, Denmark\",\n",
    "            \"Zurich, Switzerland\",\n",
    "            \"Dubrovnik, Croatia\",\n",
    "            \"Brussels, Belgium\",\n",
    "            \"Warsaw, Poland\",\n",
    "            \"Krakow, Poland\",\n",
    "            \"Oslo, Norway\",\n",
    "            \"Porto, Portugal\",\n",
    "            \"Helsinki, Finland\",\n",
    "            \"Nice, France\",\n",
    "            \"Seville, Spain\",\n",
    "            \"Reykjavik, Iceland\",\n",
    "            \"Lyon, France\",\n",
    "            \"Geneva, Switzerland\",\n",
    "            \"Marseille, France\",\n",
    "            \"Palma de Mallorca, Spain\",\n",
    "            \"Riga, Latvia\",\n",
    "            \"Tallinn, Estonia\",\n",
    "            \"Bucharest, Romania\",\n",
    "            \"Sofia, Bulgaria\",\n",
    "            \"Naples, Italy\",\n",
    "            \"Valencia, Spain\",\n",
    "            \"Bergen, Norway\",\n",
    "            \"Ljubljana, Slovenia\",\n",
    "            \"Santorini, Greece\",\n",
    "            \"Salzburg, Austria\",\n",
    "            \"Gdansk, Poland\",\n",
    "            \"Antwerp, Belgium\",\n",
    "            \"Split, Croatia\",\n",
    "            \"Vilnius, Lithuania\",\n",
    "            \"Tbilisi, Georgia\"\n",
    "            ]\n",
    "landmarks_test = [\n",
    "\"Fortezza, Italy\",\n",
    "\"Lubiana, Slovenia\",\n",
    "\"Zagabria, Croatia\",\n",
    "\"Budapest, Hungary\",\n",
    "\"Cracovia, Poland\",\n",
    "\"Praga, Czech Republic\",\n",
    "\"Passau, Germany\",\n",
    "\"Bolzano, Italy\"\n",
    "]"
   ]
  },
  {
   "cell_type": "code",
   "execution_count": 20,
   "metadata": {},
   "outputs": [],
   "source": [
    "landmarks_distances = {}\n",
    "landmarks_durations = {}\n",
    "\n",
    "for (city_1, city_2) in combinations(landmarks_test, 2):\n",
    "    try:\n",
    "        travel_data = maps.distance_matrix(origins=[city_1], \n",
    "                                            destinations=[city_2],\n",
    "                                            mode='driving',\n",
    "                                            language='English',\n",
    "                                            units='metric')\n",
    "        \n",
    "        distance = travel_data[\"rows\"][0][\"elements\"][0][\"distance\"][\"value\"]\n",
    "\n",
    "        duration = travel_data[\"rows\"][0][\"elements\"][0][\"duration\"][\"value\"]\n",
    "\n",
    "        landmarks_distances[frozenset([city_1, city_2])] = distance\n",
    "        landmarks_durations[frozenset([city_1, city_2])] = duration\n",
    "    except Exception as e:\n",
    "        print(\"Error with finding the route between %s and %s.\" % (city_1, city_2))"
   ]
  },
  {
   "cell_type": "code",
   "execution_count": 15,
   "metadata": {},
   "outputs": [],
   "source": [
    "# Save travel data to files\n",
    "with open('landmarks_distances.pickle', 'wb') as f:\n",
    "    pickle.dump(landmarks_distances, f)\n",
    "with open('landmarks_durations.pickle', 'wb') as f:\n",
    "    pickle.dump(landmarks_durations, f)\n"
   ]
  },
  {
   "cell_type": "code",
   "execution_count": 3,
   "metadata": {},
   "outputs": [],
   "source": [
    "# Load travel data from files\n",
    "with open('landmarks50_distances.pickle', 'rb') as f:\n",
    "    landmarks_distances = pickle.load(f)\n",
    "with open('landmarks50_durations.pickle', 'rb') as f:\n",
    "    landmarks_durations = pickle.load(f)"
   ]
  },
  {
   "cell_type": "code",
   "execution_count": 4,
   "metadata": {},
   "outputs": [
    {
     "data": {
      "text/plain": [
       "1225"
      ]
     },
     "execution_count": 4,
     "metadata": {},
     "output_type": "execute_result"
    }
   ],
   "source": [
    "len(landmarks_distances)"
   ]
  },
  {
   "cell_type": "code",
   "execution_count": 18,
   "metadata": {},
   "outputs": [
    {
     "data": {
      "text/plain": [
       "{frozenset({'Fortezza, Italy', 'Lubiana, Slovenia'}): 309103,\n",
       " frozenset({'Fortezza, Italy', 'Zagabria, Croatia'}): 448663,\n",
       " frozenset({'Budapest, Hungary', 'Fortezza, Italy'}): 792324,\n",
       " frozenset({'Cracovia, Poland', 'Fortezza, Italy'}): 1007982,\n",
       " frozenset({'Fortezza, Italy', 'Praga, Czech Republic'}): 615030,\n",
       " frozenset({'Fortezza, Italy', 'Passau, Germany'}): 344464,\n",
       " frozenset({'Bolzano, Italy', 'Fortezza, Italy'}): 50654,\n",
       " frozenset({'Lubiana, Slovenia', 'Zagabria, Croatia'}): 140442,\n",
       " frozenset({'Budapest, Hungary', 'Lubiana, Slovenia'}): 462260,\n",
       " frozenset({'Cracovia, Poland', 'Lubiana, Slovenia'}): 837331,\n",
       " frozenset({'Lubiana, Slovenia', 'Praga, Czech Republic'}): 706522,\n",
       " frozenset({'Lubiana, Slovenia', 'Passau, Germany'}): 399560,\n",
       " frozenset({'Bolzano, Italy', 'Lubiana, Slovenia'}): 423492,\n",
       " frozenset({'Budapest, Hungary', 'Zagabria, Croatia'}): 344669,\n",
       " frozenset({'Cracovia, Poland', 'Zagabria, Croatia'}): 825881,\n",
       " frozenset({'Praga, Czech Republic', 'Zagabria, Croatia'}): 695072,\n",
       " frozenset({'Passau, Germany', 'Zagabria, Croatia'}): 459325,\n",
       " frozenset({'Bolzano, Italy', 'Zagabria, Croatia'}): 559872,\n",
       " frozenset({'Budapest, Hungary', 'Cracovia, Poland'}): 398065,\n",
       " frozenset({'Budapest, Hungary', 'Praga, Czech Republic'}): 524884,\n",
       " frozenset({'Budapest, Hungary', 'Passau, Germany'}): 530549,\n",
       " frozenset({'Bolzano, Italy', 'Budapest, Hungary'}): 840801,\n",
       " frozenset({'Cracovia, Poland', 'Praga, Czech Republic'}): 533361,\n",
       " frozenset({'Cracovia, Poland', 'Passau, Germany'}): 744543,\n",
       " frozenset({'Bolzano, Italy', 'Cracovia, Poland'}): 1054795,\n",
       " frozenset({'Passau, Germany', 'Praga, Czech Republic'}): 223739,\n",
       " frozenset({'Bolzano, Italy', 'Praga, Czech Republic'}): 662509,\n",
       " frozenset({'Bolzano, Italy', 'Passau, Germany'}): 387333}"
      ]
     },
     "execution_count": 18,
     "metadata": {},
     "output_type": "execute_result"
    }
   ],
   "source": [
    "landmarks_distances"
   ]
  },
  {
   "cell_type": "markdown",
   "metadata": {},
   "source": [
    "# Genetic Algorithm"
   ]
  },
  {
   "cell_type": "code",
   "execution_count": 45,
   "metadata": {},
   "outputs": [],
   "source": [
    "def generate_random_solution(landmarks):\n",
    "    \"\"\"\n",
    "        Generates a random solution by shuffling the waypoints.\n",
    "\n",
    "        Arguments\n",
    "        ---------\n",
    "        landmarks (list): a list containing all the destinations to be visited\n",
    "\n",
    "        Returns\n",
    "        -------\n",
    "        tuple: tuple containing a shuffled version of the original landmarks list\n",
    "    \"\"\"\n",
    "    new_solution = landmarks.copy()\n",
    "    np.random.shuffle(new_solution)\n",
    "\n",
    "    return tuple(new_solution)\n",
    "\n",
    "def generate_random_population(population_size, landmarks):\n",
    "    \"\"\"\n",
    "        Generates a list of random solutions.\n",
    "\n",
    "        Arguments\n",
    "        ---------\n",
    "        population_size (int): number of solutions to be generated\n",
    "        landmarks (list): a list containing all the destinations to be visited\n",
    "\n",
    "        Returns\n",
    "        -------\n",
    "        list: tuple containing the random solutions\n",
    "    \"\"\"\n",
    "    random_population = []\n",
    "    for i in range(population_size):\n",
    "        random_population.append(generate_random_solution(landmarks))\n",
    "    return random_population\n",
    "\n",
    "def evaluate_solution(solution, landmarks_distances, landmarks_durations, kind='distance'):\n",
    "    \"\"\"\n",
    "        Evaluates the solution's fitness by summing the total distance/time needed to travel to each \n",
    "        destination in that order.\n",
    "\n",
    "        Arguments\n",
    "        ---------\n",
    "        solution (tuple): tuple containing a solution, i.e. an ordered list of destinations\n",
    "        kind (string, optional): it specifies if the algorithm considers the total distance or the total time\n",
    "            of the travel.\n",
    "            Default='distance'\n",
    "\n",
    "        Returns\n",
    "        -------\n",
    "        float: sum of the total travel distance/time relative to the input solution\n",
    "    \"\"\"\n",
    "    fitness = 0.\n",
    "\n",
    "    for idx in list(range(len(solution)))[1:]:\n",
    "        start_point = solution[idx-1]\n",
    "        end_point = solution[idx]\n",
    "\n",
    "        if kind == 'distance':\n",
    "            fitness += landmarks_distances[frozenset([start_point, end_point])]\n",
    "        elif kind == 'time':\n",
    "            fitness += landmarks_durations[frozenset([start_point, end_point])]\n",
    "        else:\n",
    "            raise Exception(\"Not recognized kind. Allowed values are 'distance' and 'time'.\")\n",
    "    return fitness\n",
    "\n",
    "def crossover_mutation(solution):\n",
    "    \"\"\"\n",
    "        Mutates a solution by slicing a random subset of its genome and appending it to another position.\n",
    "\n",
    "        Arguments\n",
    "        ---------\n",
    "        solution (tuple): tuple containing a solution, i.e. an ordered list of destinations\n",
    "\n",
    "        Returns\n",
    "        -------\n",
    "        tuple: tuple containing a solution, i.e. an ordered list of destinations. Different from the input\n",
    "    \"\"\"\n",
    "    # print(solution)\n",
    "    # Take 2 random indices for slicing\n",
    "    idx_1, idx_2 = np.random.choice(range(len(solution)+1),2, replace=False)\n",
    "    # print(idx_1, idx_2)\n",
    "    # Sort indices in ascendin order\n",
    "    if idx_1 > idx_2:\n",
    "        idx_1, idx_2 = idx_2, idx_1\n",
    "    # idx_1, idx_2 = tuple(set([idx_1, idx_2]))\n",
    "    # print(idx_1, idx_2)\n",
    "    # Take portion of solution\n",
    "    solution_slice = solution[idx_1:idx_2]\n",
    "    # print(solution_slice)\n",
    "    solution_remaining = solution[:idx_1] + solution[idx_2:len(solution)]\n",
    "    # print(solution_remaining)\n",
    "    idx_insertion = np.random.choice(range(len(solution_remaining)+1),1)\n",
    "    idx_insertion = idx_insertion[0]\n",
    "    # print(idx_insertion)\n",
    "    # Perform crossover\n",
    "    solution = solution_remaining[:idx_insertion] + solution_slice + solution_remaining[idx_insertion:]\n",
    "    # print(solution)\n",
    "    return tuple(solution)\n",
    "\n",
    "def multi_point_mutation(solution, num_mutations_max=3):\n",
    "    \"\"\"\n",
    "        Mutates a solution by switching the position of 2 genes.\n",
    "\n",
    "        Arguments\n",
    "        ---------\n",
    "        solution (tuple): tuple containing a solution, i.e. an ordered list of destinations\n",
    "        num_mutations_max (int): maximum number of single-point nutations\n",
    "\n",
    "        Returns\n",
    "        -------\n",
    "        tuple: tuple containing a solution, i.e. an ordered list of destinations. Different from the input\n",
    "    \"\"\"\n",
    "    solution = list(solution)\n",
    "    num_mutations = np.random.randint(1, num_mutations_max)\n",
    "    indices = range(len(solution))\n",
    "\n",
    "    for i in range(num_mutations):\n",
    "        idx_1, idx_2 = np.random.choice(indices, 2, replace=False)\n",
    "        solution[idx_1], solution[idx_2] = solution[idx_2], solution[idx_1]\n",
    "    return tuple(solution)\n",
    "\n",
    "def run_genetic_algorithm(landmarks, landmarks_distances, landmarks_durations, \n",
    "                          population_size=200, \n",
    "                          max_generations=1000, \n",
    "                          evaluation_kind='distance'):\n",
    "    \"\"\"\n",
    "    \"\"\"\n",
    "\n",
    "    # Define the size of the best solutions subset. In this case 20% of the total population size is used\n",
    "    best_solutions_size = int(population_size *.20)\n",
    "\n",
    "    # Generate the initial random population, containing population_size solutions\n",
    "    population = generate_random_population(population_size, landmarks)\n",
    "\n",
    "    # Iterate through generations\n",
    "    for gen in range(max_generations):\n",
    "        \n",
    "        # Evaluate solutions' fitness\n",
    "        population_fitness = {}\n",
    "\n",
    "        for solution in population:\n",
    "            if solution not in population_fitness.keys():\n",
    "                population_fitness[solution] = evaluate_solution(solution, landmarks_distances, landmarks_durations, kind=evaluation_kind)\n",
    "            else:\n",
    "                continue\n",
    "            \n",
    "        offspring_population = []\n",
    "        # Select the best solutions in the population and use them to produce the offspring solutions\n",
    "        for rank, solution in enumerate(sorted(population_fitness, key=population_fitness.get)[:best_solutions_size]):\n",
    "\n",
    "            if gen % (int(max_generations*.10)) == 0 and rank == 0:\n",
    "                print(\"The best solution of generation {} is:\".format(gen))\n",
    "                print(solution)\n",
    "                print(\"With a fitness of {}\".format(population_fitness[solution]))\n",
    "            \n",
    "            # Copy the best solutions into the offspring population\n",
    "            offspring_population.append(solution)\n",
    "            # if len(offspring_population[-1]) != 8:\n",
    "            #         print(\"wrong size\")\n",
    "            #         print(offspring_population[-1])\n",
    "\n",
    "            # For each best solution, perform 7 crossover mutations\n",
    "            for mut_idx in range(7):\n",
    "                offspring_population.append(crossover_mutation(solution))\n",
    "                # if len(offspring_population[-1]) != 8:\n",
    "                #     print(\"wrong size\")\n",
    "                #     print(offspring_population[-1])\n",
    "\n",
    "            # For each best solution, perform 2 multi-point mutations\n",
    "            for mut_idx in range(2):\n",
    "                offspring_population.append(multi_point_mutation(solution, 3))\n",
    "                # if len(offspring_population[-1]) != 8:\n",
    "                #     print(\"wrong size\")\n",
    "                #     print(offspring_population[-1])\n",
    "        population = offspring_population\n",
    "        # print(\"End gen\")\n",
    "    return(population)"
   ]
  },
  {
   "cell_type": "code",
   "execution_count": 46,
   "metadata": {},
   "outputs": [
    {
     "name": "stdout",
     "output_type": "stream",
     "text": [
      "8 1\n",
      "8 1\n"
     ]
    }
   ],
   "source": [
    "idx_1, idx_2 = 8, 1\n",
    "print(idx_1, idx_2)\n",
    "# Sort indices in ascendin order\n",
    "idx_1, idx_2 = tuple(set([idx_1, idx_2]))\n",
    "print(idx_1, idx_2)"
   ]
  },
  {
   "cell_type": "code",
   "execution_count": 47,
   "metadata": {},
   "outputs": [
    {
     "name": "stdout",
     "output_type": "stream",
     "text": [
      "The best solution of generation 0 is:\n",
      "('Fortezza, Italy', 'Bolzano, Italy', 'Zagabria, Croatia', 'Lubiana, Slovenia', 'Passau, Germany', 'Budapest, Hungary', 'Cracovia, Poland', 'Praga, Czech Republic')\n",
      "With a fitness of 2612503.0\n",
      "The best solution of generation 100 is:\n",
      "('Praga, Czech Republic', 'Passau, Germany', 'Bolzano, Italy', 'Fortezza, Italy', 'Lubiana, Slovenia', 'Zagabria, Croatia', 'Budapest, Hungary', 'Cracovia, Poland')\n",
      "With a fitness of 1854005.0\n",
      "The best solution of generation 200 is:\n",
      "('Praga, Czech Republic', 'Passau, Germany', 'Bolzano, Italy', 'Fortezza, Italy', 'Lubiana, Slovenia', 'Zagabria, Croatia', 'Budapest, Hungary', 'Cracovia, Poland')\n",
      "With a fitness of 1854005.0\n",
      "The best solution of generation 300 is:\n",
      "('Praga, Czech Republic', 'Passau, Germany', 'Bolzano, Italy', 'Fortezza, Italy', 'Lubiana, Slovenia', 'Zagabria, Croatia', 'Budapest, Hungary', 'Cracovia, Poland')\n",
      "With a fitness of 1854005.0\n",
      "The best solution of generation 400 is:\n",
      "('Praga, Czech Republic', 'Passau, Germany', 'Bolzano, Italy', 'Fortezza, Italy', 'Lubiana, Slovenia', 'Zagabria, Croatia', 'Budapest, Hungary', 'Cracovia, Poland')\n",
      "With a fitness of 1854005.0\n",
      "The best solution of generation 500 is:\n",
      "('Praga, Czech Republic', 'Passau, Germany', 'Bolzano, Italy', 'Fortezza, Italy', 'Lubiana, Slovenia', 'Zagabria, Croatia', 'Budapest, Hungary', 'Cracovia, Poland')\n",
      "With a fitness of 1854005.0\n",
      "The best solution of generation 600 is:\n",
      "('Praga, Czech Republic', 'Passau, Germany', 'Bolzano, Italy', 'Fortezza, Italy', 'Lubiana, Slovenia', 'Zagabria, Croatia', 'Budapest, Hungary', 'Cracovia, Poland')\n",
      "With a fitness of 1854005.0\n",
      "The best solution of generation 700 is:\n",
      "('Praga, Czech Republic', 'Passau, Germany', 'Bolzano, Italy', 'Fortezza, Italy', 'Lubiana, Slovenia', 'Zagabria, Croatia', 'Budapest, Hungary', 'Cracovia, Poland')\n",
      "With a fitness of 1854005.0\n",
      "The best solution of generation 800 is:\n",
      "('Praga, Czech Republic', 'Passau, Germany', 'Bolzano, Italy', 'Fortezza, Italy', 'Lubiana, Slovenia', 'Zagabria, Croatia', 'Budapest, Hungary', 'Cracovia, Poland')\n",
      "With a fitness of 1854005.0\n",
      "The best solution of generation 900 is:\n",
      "('Praga, Czech Republic', 'Passau, Germany', 'Bolzano, Italy', 'Fortezza, Italy', 'Lubiana, Slovenia', 'Zagabria, Croatia', 'Budapest, Hungary', 'Cracovia, Poland')\n",
      "With a fitness of 1854005.0\n"
     ]
    }
   ],
   "source": [
    "final_population = run_genetic_algorithm(landmarks_test, landmarks_distances, landmarks_durations, \n",
    "                                        population_size=100, \n",
    "                                        max_generations=1000, \n",
    "                                        evaluation_kind='distance')"
   ]
  },
  {
   "cell_type": "code",
   "execution_count": 32,
   "metadata": {},
   "outputs": [
    {
     "data": {
      "text/plain": [
       "False"
      ]
     },
     "execution_count": 32,
     "metadata": {},
     "output_type": "execute_result"
    }
   ],
   "source": [
    "d = {'a':120, 'c':90}\n",
    "'b' in d"
   ]
  },
  {
   "cell_type": "code",
   "execution_count": 24,
   "metadata": {},
   "outputs": [
    {
     "data": {
      "text/plain": [
       "[1, 2, 3, 4, 5, 6, 7, 8, 9]"
      ]
     },
     "execution_count": 24,
     "metadata": {},
     "output_type": "execute_result"
    }
   ],
   "source": [
    "list(range(10))[1:]"
   ]
  },
  {
   "cell_type": "code",
   "execution_count": 26,
   "metadata": {},
   "outputs": [
    {
     "data": {
      "text/plain": [
       "['a', 'c']"
      ]
     },
     "execution_count": 26,
     "metadata": {},
     "output_type": "execute_result"
    }
   ],
   "source": [
    "sorted(d)"
   ]
  },
  {
   "cell_type": "code",
   "execution_count": 35,
   "metadata": {},
   "outputs": [
    {
     "data": {
      "text/plain": [
       "[('c', 90), ('a', 120)]"
      ]
     },
     "execution_count": 35,
     "metadata": {},
     "output_type": "execute_result"
    }
   ],
   "source": [
    "sorted(d.items(), key=lambda x:x[1])"
   ]
  },
  {
   "cell_type": "code",
   "execution_count": 65,
   "metadata": {},
   "outputs": [],
   "source": [
    "a = [1,2,3,4,5,6,7]"
   ]
  },
  {
   "cell_type": "code",
   "execution_count": 102,
   "metadata": {},
   "outputs": [
    {
     "name": "stdout",
     "output_type": "stream",
     "text": [
      "3 5\n"
     ]
    },
    {
     "data": {
      "text/plain": [
       "(3, 5)"
      ]
     },
     "execution_count": 102,
     "metadata": {},
     "output_type": "execute_result"
    }
   ],
   "source": [
    "i1, i2 = np.random.choice(range(len(a)+1),2, replace=False)\n",
    "print(i1,i2)\n",
    "# Sort indices in ascendin order\n",
    "tuple(set([i1, i2]))"
   ]
  },
  {
   "cell_type": "code",
   "execution_count": 123,
   "metadata": {},
   "outputs": [
    {
     "data": {
      "text/plain": [
       "[3, 4, 5, 6]"
      ]
     },
     "execution_count": 123,
     "metadata": {},
     "output_type": "execute_result"
    }
   ],
   "source": [
    "a1 = a[2:6]\n",
    "a1"
   ]
  },
  {
   "cell_type": "code",
   "execution_count": 124,
   "metadata": {},
   "outputs": [
    {
     "data": {
      "text/plain": [
       "[1, 2, 7]"
      ]
     },
     "execution_count": 124,
     "metadata": {},
     "output_type": "execute_result"
    }
   ],
   "source": [
    "a2 = a[:2]+a[6:len(a)]\n",
    "a2"
   ]
  },
  {
   "cell_type": "code",
   "execution_count": 129,
   "metadata": {},
   "outputs": [
    {
     "data": {
      "text/plain": [
       "[1, 2, 7, 3, 4, 5, 6]"
      ]
     },
     "execution_count": 129,
     "metadata": {},
     "output_type": "execute_result"
    }
   ],
   "source": [
    "idx_insertion=4\n",
    "a2[:idx_insertion] + a1 + a2[idx_insertion:]"
   ]
  },
  {
   "cell_type": "code",
   "execution_count": 97,
   "metadata": {},
   "outputs": [
    {
     "data": {
      "text/plain": [
       "[0, 1, 2, 3, 4, 5, 6]"
      ]
     },
     "execution_count": 97,
     "metadata": {},
     "output_type": "execute_result"
    }
   ],
   "source": [
    "list(range(len(a)))"
   ]
  },
  {
   "cell_type": "code",
   "execution_count": 107,
   "metadata": {},
   "outputs": [
    {
     "data": {
      "text/plain": [
       "[1, 2, 3, 4, 5, 6]"
      ]
     },
     "execution_count": 107,
     "metadata": {},
     "output_type": "execute_result"
    }
   ],
   "source": [
    "a[:-1]"
   ]
  },
  {
   "cell_type": "code",
   "execution_count": 118,
   "metadata": {},
   "outputs": [
    {
     "data": {
      "text/plain": [
       "[1, 2, 3, 4, 5, 6, 7]"
      ]
     },
     "execution_count": 118,
     "metadata": {},
     "output_type": "execute_result"
    }
   ],
   "source": [
    "a[:7]"
   ]
  },
  {
   "cell_type": "code",
   "execution_count": 122,
   "metadata": {},
   "outputs": [
    {
     "data": {
      "text/plain": [
       "3"
      ]
     },
     "execution_count": 122,
     "metadata": {},
     "output_type": "execute_result"
    }
   ],
   "source": [
    "i = np.random.choice(range(len(a)+1),1, replace=False)\n",
    "i = i[0]\n",
    "i"
   ]
  },
  {
   "cell_type": "code",
   "execution_count": null,
   "metadata": {},
   "outputs": [],
   "source": []
  }
 ],
 "metadata": {
  "kernelspec": {
   "display_name": "Python 3",
   "language": "python",
   "name": "python3"
  },
  "language_info": {
   "codemirror_mode": {
    "name": "ipython",
    "version": 3
   },
   "file_extension": ".py",
   "mimetype": "text/x-python",
   "name": "python",
   "nbconvert_exporter": "python",
   "pygments_lexer": "ipython3",
   "version": "3.9.13"
  },
  "orig_nbformat": 4
 },
 "nbformat": 4,
 "nbformat_minor": 2
}
